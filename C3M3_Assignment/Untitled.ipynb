{
 "cells": [
  {
   "cell_type": "code",
   "execution_count": 1,
   "metadata": {},
   "outputs": [
    {
     "name": "stdout",
     "output_type": "stream",
     "text": [
      "/home/jovyan/work\r\n"
     ]
    }
   ],
   "source": [
    "!pwd"
   ]
  },
  {
   "cell_type": "code",
   "execution_count": 2,
   "metadata": {},
   "outputs": [
    {
     "name": "stdout",
     "output_type": "stream",
     "text": [
      "total 10380\r\n",
      "drwxrwxrwx 6 nobody nogroup    6144 Feb 27 18:23 .\r\n",
      "drwsrwsr-x 1 jovyan users      4096 Feb 27 18:14 ..\r\n",
      "-rwxrwxrwx 1 nobody nogroup  977022 Feb 27 18:21 C3M3_Assignment.ipynb\r\n",
      "lrwxrwxrwx 1 nobody nogroup      34 Feb 27 08:37 densenet.hdf5 -> /home/jovyan/work-ro/densenet.hdf5\r\n",
      "drwxrwxrwx 2 nobody nogroup    6144 Feb 27 18:23 .ipynb_checkpoints\r\n",
      "drwxrwxrwx 3 nobody nogroup    6144 Feb 27 08:37 __MACOSX\r\n",
      "-rwxrwxrwx 1 nobody nogroup 8969768 May 27  2020 nhanes_rf.sav\r\n",
      "-rwxrwxrwx 1 nobody nogroup  223680 May 27  2020 nhanest_test.csv\r\n",
      "drwxrwxrwx 3 nobody nogroup    6144 Feb 27 08:37 nih_new\r\n",
      "drwxrwxrwx 2 nobody nogroup    6144 Feb 27 08:39 __pycache__\r\n",
      "-rwxrwxrwx 1 nobody nogroup  409728 Jun  8  2020 reference_cam.npy\r\n",
      "-rw-r--r-- 1 jovyan users       288 Feb 27 18:23 Untitled.ipynb\r\n",
      "-rwxrwxrwx 1 nobody nogroup    4673 May 27  2020 util.py\r\n"
     ]
    }
   ],
   "source": [
    "!ls -la "
   ]
  },
  {
   "cell_type": "code",
   "execution_count": null,
   "metadata": {},
   "outputs": [],
   "source": [
    "!mkdir ../backup"
   ]
  }
 ],
 "metadata": {
  "kernelspec": {
   "display_name": "Python 3",
   "language": "python",
   "name": "python3"
  },
  "language_info": {
   "codemirror_mode": {
    "name": "ipython",
    "version": 3
   },
   "file_extension": ".py",
   "mimetype": "text/x-python",
   "name": "python",
   "nbconvert_exporter": "python",
   "pygments_lexer": "ipython3",
   "version": "3.6.3"
  }
 },
 "nbformat": 4,
 "nbformat_minor": 2
}
